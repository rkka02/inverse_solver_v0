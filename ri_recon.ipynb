{
 "cells": [
  {
   "cell_type": "code",
   "execution_count": 1,
   "metadata": {},
   "outputs": [],
   "source": [
    "import numpy as np\n",
    "import matplotlib.pyplot as plt\n",
    "import optics\n",
    "import tifffile\n",
    "from tqdm import tqdm\n",
    "import utils\n",
    "\n",
    "def plot_fourier(fourier):\n",
    "    plt.imshow(np.log(1+np.abs(fourier)))"
   ]
  },
  {
   "cell_type": "code",
   "execution_count": 2,
   "metadata": {},
   "outputs": [],
   "source": [
    "import napari\n",
    "viewer = napari.Viewer()"
   ]
  },
  {
   "cell_type": "markdown",
   "metadata": {},
   "source": [
    "<h1> 1. Field retrieval from hologram </h1>"
   ]
  },
  {
   "cell_type": "code",
   "execution_count": 309,
   "metadata": {},
   "outputs": [],
   "source": [
    "background = tifffile.imread('background.tif')\n",
    "sample = tifffile.imread('sample.tif')\n",
    "\n",
    "N = background[0].shape[0]\n",
    "Z = background.shape[0]"
   ]
  },
  {
   "cell_type": "code",
   "execution_count": 295,
   "metadata": {},
   "outputs": [
    {
     "data": {
      "text/plain": [
       "<Image layer 'sample [1]' at 0x15dbb36f6b0>"
      ]
     },
     "execution_count": 295,
     "metadata": {},
     "output_type": "execute_result"
    }
   ],
   "source": [
    "viewer.add_image(sample)"
   ]
  },
  {
   "cell_type": "code",
   "execution_count": 311,
   "metadata": {},
   "outputs": [],
   "source": [
    "m = 1\n",
    "cm = 1e-2\n",
    "mm = 1e-3\n",
    "um = 1e-6\n",
    "nm = 1e-9\n",
    "\n",
    "# Laser configuration\n",
    "lam = 532 * nm\n",
    "\n",
    "# Camera configuration\n",
    "dx_cam = 3.5 * um\n",
    "B_cam = 1 / 2 / dx_cam\n",
    "dv_cam = 2 * B_cam / N\n",
    "\n",
    "# Objective lens configuration\n",
    "NA = 1.2\n",
    "dx_ol = lam / 4 / NA\n",
    "B_ol = 1 / 2 / dx_ol\n",
    "dv_ol = 2 * B_ol / N\n",
    "\n",
    "# dx_ol = 0.083 * um\n",
    "# B_ol = 1 / 2 / dx_ol\n",
    "# dv_ol = 2 * B_ol / N\n",
    "\n",
    "cutoff = 1/3"
   ]
  },
  {
   "cell_type": "markdown",
   "metadata": {},
   "source": [
    "<h3> object_center gives frequency coordinate of illumination beam in fourier space </h3>"
   ]
  },
  {
   "cell_type": "markdown",
   "metadata": {},
   "source": [
    "\\begin{gather*}\n",
    "\n",
    "\n",
    "I(\\vec{r}) = |R+U|^2 \\\\\n",
    "\\hat{I(\\vec{\\nu})} = \\mathcal{F} [I(\\vec{r})]\\\\\n",
    "\\mathcal{P} [\\hat{I(\\vec{\\nu})}] = center[cut[\\hat{I(\\vec{\\nu})}]]= center [\\mathcal{F} [R^* U]] = \\mathcal{F} [U] \\\\\n",
    "\\Downarrow \\\\\n",
    "U(\\vec{r}) = \\mathcal{F}^{-1} [\\mathcal{F} [U]] \n",
    "\n",
    "\n",
    "\\end{gather*}"
   ]
  },
  {
   "cell_type": "code",
   "execution_count": 329,
   "metadata": {},
   "outputs": [],
   "source": [
    "def get_optical_parameters(image_shape, lam, n_medium, dx_cam, dx_ol):\n",
    "    N = image_shape[1]\n",
    "    parameters = dict()\n",
    "    \n",
    "    # optical parameters\n",
    "    parameters['lam'] = lam\n",
    "    \n",
    "    # Camera parameters\n",
    "    parameters['dx_cam'] = dx_cam\n",
    "    parameters['B_cam'] = 1 / 2 / dx_cam\n",
    "    parameters['dv_cam'] = 2 * parameters['B_cam'] / N\n",
    "    \n",
    "    # Objective lens parameters\n",
    "    parameters['dx_ol'] = dx_ol\n",
    "    parameters['B_ol'] = 1 / 2 / dx_ol\n",
    "    parameters['dv_ol'] = 2 * B_ol / N\n",
    "    \n",
    "    # Light parameters\n",
    "    parameters['v0'] = 1 / lam\n",
    "    parameters['v_nm'] = parameters['v0'] * n_medium\n",
    "    parameters['k_nm'] = 2 * np.pi * parameters['v_nm']\n",
    "    parameters['s_nm'] = parameters['v_nm'] // parameters['dv_ol']\n",
    "    \n",
    "    return parameters"
   ]
  },
  {
   "cell_type": "code",
   "execution_count": 330,
   "metadata": {},
   "outputs": [
    {
     "ename": "NameError",
     "evalue": "name 'B_cam' is not defined",
     "output_type": "error",
     "traceback": [
      "\u001b[1;31m---------------------------------------------------------------------------\u001b[0m",
      "\u001b[1;31mNameError\u001b[0m                                 Traceback (most recent call last)",
      "Cell \u001b[1;32mIn[330], line 1\u001b[0m\n\u001b[1;32m----> 1\u001b[0m parameters \u001b[38;5;241m=\u001b[39m get_optical_parameters(image_shape\u001b[38;5;241m=\u001b[39m(N,N), lam\u001b[38;5;241m=\u001b[39m\u001b[38;5;241m532\u001b[39m\u001b[38;5;241m*\u001b[39mnm, NA\u001b[38;5;241m=\u001b[39m\u001b[38;5;241m1.2\u001b[39m, n_medium\u001b[38;5;241m=\u001b[39m\u001b[38;5;241m1\u001b[39m, dx_cam\u001b[38;5;241m=\u001b[39m\u001b[38;5;241m3.5\u001b[39m\u001b[38;5;241m*\u001b[39mum, dx_ol\u001b[38;5;241m=\u001b[39m\u001b[38;5;241m110\u001b[39m\u001b[38;5;241m*\u001b[39mnm)\n\u001b[0;32m      2\u001b[0m parameters\n",
      "Cell \u001b[1;32mIn[329], line 7\u001b[0m, in \u001b[0;36mget_optical_parameters\u001b[1;34m(image_shape, lam, NA, n_medium, dx_cam, dx_ol)\u001b[0m\n\u001b[0;32m      5\u001b[0m \u001b[38;5;66;03m# Camera parameters\u001b[39;00m\n\u001b[0;32m      6\u001b[0m parameters[\u001b[38;5;124m'\u001b[39m\u001b[38;5;124mB_cam\u001b[39m\u001b[38;5;124m'\u001b[39m] \u001b[38;5;241m=\u001b[39m \u001b[38;5;241m1\u001b[39m \u001b[38;5;241m/\u001b[39m \u001b[38;5;241m2\u001b[39m \u001b[38;5;241m/\u001b[39m dx_cam\n\u001b[1;32m----> 7\u001b[0m parameters[\u001b[38;5;124m'\u001b[39m\u001b[38;5;124mdv_cam\u001b[39m\u001b[38;5;124m'\u001b[39m] \u001b[38;5;241m=\u001b[39m \u001b[38;5;241m2\u001b[39m \u001b[38;5;241m*\u001b[39m B_cam \u001b[38;5;241m/\u001b[39m N\n\u001b[0;32m      9\u001b[0m \u001b[38;5;66;03m# Objective lens parameters\u001b[39;00m\n\u001b[0;32m     10\u001b[0m parameters[\u001b[38;5;124m'\u001b[39m\u001b[38;5;124mdx_ol\u001b[39m\u001b[38;5;124m'\u001b[39m] \u001b[38;5;241m=\u001b[39m dx_ol\n",
      "\u001b[1;31mNameError\u001b[0m: name 'B_cam' is not defined"
     ]
    }
   ],
   "source": [
    "parameters = get_optical_parameters(image_shape=(N,N), lam=532*nm, NA=1.2, n_medium=1, dx_cam=3.5*um, dx_ol=110*nm)\n",
    "parameters"
   ]
  },
  {
   "cell_type": "markdown",
   "metadata": {},
   "source": [
    "<h3> Get object field U : F[(DC term) + UR* + U*R] -> F[U] </h3>"
   ]
  },
  {
   "cell_type": "code",
   "execution_count": 312,
   "metadata": {},
   "outputs": [
    {
     "name": "stderr",
     "output_type": "stream",
     "text": [
      "100%|██████████| 50/50 [00:06<00:00,  7.72it/s]\n"
     ]
    }
   ],
   "source": [
    "temp_background_object_field, temp_sample_object_field = optics.Holography_Off_Axis.get_object_field(background_hologram=background, \n",
    "                                                                                           sample_hologram=sample)"
   ]
  },
  {
   "cell_type": "code",
   "execution_count": 313,
   "metadata": {},
   "outputs": [],
   "source": [
    "background_object_field = temp_background_object_field / temp_background_object_field\n",
    "sample_object_field = temp_sample_object_field / temp_background_object_field"
   ]
  },
  {
   "cell_type": "code",
   "execution_count": 315,
   "metadata": {},
   "outputs": [
    {
     "data": {
      "text/plain": [
       "213.0"
      ]
     },
     "execution_count": 315,
     "metadata": {},
     "output_type": "execute_result"
    }
   ],
   "source": [
    "v0 = 1 / lam\n",
    "n_medium = 1\n",
    "v_nm = v0 * n_medium\n",
    "k_nm = 2 * np.pi * v_nm\n",
    "s_nm = v_nm // dv_ol\n",
    "s_nm"
   ]
  },
  {
   "cell_type": "code",
   "execution_count": 316,
   "metadata": {},
   "outputs": [],
   "source": [
    "import utils\n",
    "\n",
    "s0x = []\n",
    "s0y = []\n",
    "s0z = []\n",
    "\n",
    "for i in range(Z):\n",
    "    sample_freq = np.array(utils.get_maxindex(np.abs(np.fft.fft2(temp_sample_object_field[i]))))\n",
    "    if i==0:\n",
    "        center = sample_freq\n",
    "    incident_freq = sample_freq-center\n",
    "    s0x.append(incident_freq[1])\n",
    "    s0y.append(incident_freq[0])\n",
    "    s0z.append(round(np.sqrt(s_nm**2 - incident_freq[1]**2 - incident_freq[0]**2)))"
   ]
  },
  {
   "cell_type": "code",
   "execution_count": 317,
   "metadata": {},
   "outputs": [],
   "source": [
    "s_x = np.arange(-N//2, N//2)\n",
    "s_y = np.arange(-N//2, N//2)\n",
    "S_x, S_y = np.meshgrid(s_x, s_y)\n",
    "\n",
    "S_z = s_nm**2 - S_x**2 - S_y**2\n",
    "S_z[S_z<0] = 0\n",
    "S_z = np.sqrt(S_z)\n"
   ]
  },
  {
   "cell_type": "markdown",
   "metadata": {},
   "source": [
    "<h1> The first Born </h3>"
   ]
  },
  {
   "cell_type": "code",
   "execution_count": 318,
   "metadata": {},
   "outputs": [],
   "source": [
    "born_scattered_field = sample_object_field - 1"
   ]
  },
  {
   "cell_type": "code",
   "execution_count": 320,
   "metadata": {},
   "outputs": [
    {
     "name": "stderr",
     "output_type": "stream",
     "text": [
      "100%|██████████| 50/50 [00:25<00:00,  1.96it/s]\n"
     ]
    }
   ],
   "source": [
    "H = 300\n",
    "born = np.zeros((N, N, H), dtype=np.complex128)\n",
    "count = np.zeros((N, N, H))\n",
    "NA_circle = utils.circular_filter((N, N), pixel_radius=int(s_nm))\n",
    "for i in tqdm(range(Z)):\n",
    "    # Shifted coordinates\n",
    "    shifted_S_x = np.roll(S_x, shift=-s0x[i], axis=1)\n",
    "    shifted_S_y = np.roll(S_y, shift=-s0y[i], axis=0)\n",
    "    shifted_S_z = np.roll(S_z, shift=-s0x[i], axis=1)\n",
    "    shifted_S_z = np.roll(shifted_S_z, shift=-s0y[i], axis=0)\n",
    "            \n",
    "    # Scattered field\n",
    "    Us = born_scattered_field[i].copy()\n",
    "    fourier_Us = np.fft.fftshift(np.fft.fft2(np.fft.ifftshift(Us)))\n",
    "    fourier_Us = fourier_Us * NA_circle\n",
    "    # fourier_Us = np.roll(fourier_Us, shift=-s0y[i]+1, axis=0)\n",
    "    # fourier_Us = np.roll(fourier_Us, shift=-s0x[i], axis=1)\n",
    "            \n",
    "    # Coefficients\n",
    "    coeff = 2 * np.pi * dv_ol * shifted_S_z / 2 / np.pi / 1j\n",
    "            \n",
    "    # field\n",
    "    F_born = coeff * fourier_Us\n",
    "        \n",
    "    yx_idx = np.where((S_z>0) & (NA_circle != 0) & \n",
    "                    (shifted_S_x > -N//2) & (shifted_S_x < N//2) &\n",
    "                    (shifted_S_y > -N//2) & (shifted_S_y < N//2)\n",
    "                )\n",
    "        \n",
    "    # yx_idx = np.where((S_z>0))\n",
    "        \n",
    "    z_idx = np.round(shifted_S_z[yx_idx]-shifted_S_z[N//2, N//2] + H//2).astype(int)\n",
    "    yxz_idx = (yx_idx[0], yx_idx[1], z_idx)\n",
    "    count[yxz_idx] += np.ones((N, N, H))[yxz_idx]\n",
    "            \n",
    "    born[yxz_idx] += F_born[yx_idx]  \n",
    "    \n",
    "born[count==0] = 0\n",
    "born[count!=0] = born[count!=0]/count[count!=0]"
   ]
  },
  {
   "cell_type": "code",
   "execution_count": 321,
   "metadata": {},
   "outputs": [
    {
     "data": {
      "text/plain": [
       "<Image layer 'Image' at 0x15dbfd81b80>"
      ]
     },
     "execution_count": 321,
     "metadata": {},
     "output_type": "execute_result"
    }
   ],
   "source": [
    "potential = np.fft.ifftshift(np.fft.ifftn(np.fft.fftshift(born)))\n",
    "viewer.add_image(np.real(potential))"
   ]
  },
  {
   "cell_type": "code",
   "execution_count": 222,
   "metadata": {},
   "outputs": [
    {
     "data": {
      "text/plain": [
       "<Image layer 'Image [1]' at 0x15da469a660>"
      ]
     },
     "execution_count": 222,
     "metadata": {},
     "output_type": "execute_result"
    }
   ],
   "source": [
    "ri = np.sqrt(1 + 4 * np.pi * potential / k_nm**2)\n",
    "viewer.add_image(np.real(ri))"
   ]
  },
  {
   "cell_type": "markdown",
   "metadata": {},
   "source": [
    "<h1> The first Rytov </h1>"
   ]
  },
  {
   "cell_type": "code",
   "execution_count": 326,
   "metadata": {},
   "outputs": [
    {
     "name": "stderr",
     "output_type": "stream",
     "text": [
      "100%|██████████| 50/50 [00:25<00:00,  1.94it/s]\n"
     ]
    }
   ],
   "source": [
    "# Rytov\n",
    "H = 300\n",
    "rytov = np.zeros((N, N, H), dtype=np.complex128)\n",
    "count = np.zeros((N, N, H))\n",
    "NA_circle = utils.circular_filter((N, N), pixel_radius=int(s_nm))\n",
    "for i in tqdm(range(Z)):\n",
    "    \n",
    "    rytov_field = np.log(np.abs(sample_object_field[i])) + 1j * np.angle(sample_object_field[i])\n",
    "    \n",
    "    # Shifted coordinates\n",
    "    shifted_S_x = np.roll(S_x, shift=-s0x[i], axis=1)\n",
    "    shifted_S_y = np.roll(S_y, shift=-s0y[i], axis=0)\n",
    "    shifted_S_z = np.roll(S_z, shift=-s0x[i], axis=1)\n",
    "    shifted_S_z = np.roll(shifted_S_z, shift=-s0y[i], axis=0)\n",
    "\n",
    "    # Scattered field\n",
    "    Us = rytov_field.copy()\n",
    "    fourier_Us = np.fft.fftshift(np.fft.fft2(np.fft.ifftshift(Us)))\n",
    "    fourier_Us = fourier_Us * NA_circle\n",
    "    # fourier_Us = np.roll(fourier_Us, shift=-s0y[i]+1, axis=0)\n",
    "    # fourier_Us = np.roll(fourier_Us, shift=-s0x[i], axis=1)\n",
    "            \n",
    "    # Coefficients\n",
    "    coeff = 2 * np.pi * dv_ol * shifted_S_z / 2 / np.pi / 1j\n",
    "            \n",
    "    # field\n",
    "    F_rytov = coeff * fourier_Us\n",
    "        \n",
    "    yx_idx = np.where((S_z>0) & (NA_circle != 0) & \n",
    "                (shifted_S_x > -N//2) & (shifted_S_x < N//2) &\n",
    "                (shifted_S_y > -N//2) & (shifted_S_y < N//2)\n",
    "                )\n",
    "        \n",
    "    # yx_idx = np.where((S_z>0))\n",
    "        \n",
    "    z_idx = np.round(shifted_S_z[yx_idx]-shifted_S_z[N//2, N//2] + H//2).astype(int)\n",
    "    yxz_idx = (yx_idx[0], yx_idx[1], z_idx)\n",
    "    count[yxz_idx] += np.ones((N, N, H))[yxz_idx]\n",
    "            \n",
    "    rytov[yxz_idx] += F_rytov[yx_idx]\n",
    "    \n",
    "rytov[count==0] = 0\n",
    "rytov[count!=0] = rytov[count!=0]/count[count!=0]"
   ]
  },
  {
   "cell_type": "code",
   "execution_count": 327,
   "metadata": {},
   "outputs": [
    {
     "data": {
      "text/plain": [
       "<Image layer 'Image [3]' at 0x15db81b5370>"
      ]
     },
     "execution_count": 327,
     "metadata": {},
     "output_type": "execute_result"
    }
   ],
   "source": [
    "potential = np.fft.ifftshift(np.fft.ifftn(np.fft.fftshift(rytov)))\n",
    "viewer.add_image(np.real(potential))"
   ]
  },
  {
   "cell_type": "code",
   "execution_count": 307,
   "metadata": {},
   "outputs": [
    {
     "data": {
      "text/plain": [
       "<Image layer 'ri' at 0x15dc5486c00>"
      ]
     },
     "execution_count": 307,
     "metadata": {},
     "output_type": "execute_result"
    }
   ],
   "source": [
    "ri = np.sqrt(1 + 4 * np.pi * np.real(potential) / k_nm**2)\n",
    "viewer.add_image(np.real(ri))"
   ]
  },
  {
   "cell_type": "markdown",
   "metadata": {},
   "source": [
    "<h1> Matlab code - direct immigration </h1>"
   ]
  },
  {
   "cell_type": "code",
   "execution_count": null,
   "metadata": {},
   "outputs": [
    {
     "name": "stderr",
     "output_type": "stream",
     "text": [
      "100%|██████████| 50/50 [00:14<00:00,  3.54it/s]\n"
     ]
    }
   ],
   "source": [
    "phase = np.zeros((Z, N, N))\n",
    "amplitude = np.zeros((Z, N, N))\n",
    "\n",
    "for i in tqdm(range(Z)):\n",
    "    phase[i] = restoration.unwrap_phase(np.angle(retrieved_field[i]))\n",
    "    amplitude[i] = np.abs(retrieved_field[i])"
   ]
  },
  {
   "cell_type": "code",
   "execution_count": null,
   "metadata": {},
   "outputs": [],
   "source": [
    "illumination_y_idx = np.zeros(Z)\n",
    "illumination_x_idx = np.zeros(Z)\n",
    "y_0 = 0\n",
    "x_0 = 0\n",
    "\n",
    "for i in range(Z):\n",
    "    F_back = np.fft.fft2(retrieved_background[i])\n",
    "    # find illumination center\n",
    "    yx = get_maxindex(F_back)\n",
    "    # normal illumination\n",
    "    if i==0:\n",
    "        y_0 = yx[0]\n",
    "        x_0 = yx[1]\n",
    "    \n",
    "    # obliqueness\n",
    "    illumination_y_idx[i] = y_0-yx[1]\n",
    "    illumination_x_idx[i] = x_0-yx[0]"
   ]
  },
  {
   "cell_type": "code",
   "execution_count": null,
   "metadata": {},
   "outputs": [],
   "source": [
    "n_medium = 1.33\n",
    "v0_nm = (1/lam) * n_medium\n",
    "\n",
    "v0_x = dv * np.array(illumination_x_idx)\n",
    "v0_y = dv * np.array(illumination_y_idx)\n",
    "v0_z = np.real(np.sqrt(v0_nm**2 - v0_x**2 - v0_y**2))"
   ]
  },
  {
   "cell_type": "code",
   "execution_count": null,
   "metadata": {},
   "outputs": [],
   "source": [
    "fourier_x = np.arange(-N//2, N//2) * dv\n",
    "fourier_y = np.arange(-N//2, N//2) * dv\n",
    "fourier_z = np.arange(-height//2, height//2) * dv\n",
    "\n",
    "Fourier_X, Fourier_Y = np.meshgrid(fourier_x, fourier_y)\n",
    "Fourier_Z = np.sqrt(Fourier_X**2 + Fourier_Y**2)\n",
    "\n",
    "fourier_y = fourier_y[:, None]\n",
    "\n",
    "v3 = v0_nm**2 - Fourier_Z**2\n",
    "v3[v3<0] = 0\n",
    "v3 = np.sqrt(v3)\n",
    "plt.imshow(v3)"
   ]
  },
  {
   "cell_type": "code",
   "execution_count": null,
   "metadata": {},
   "outputs": [],
   "source": [
    "mask = Fourier_Z.copy()\n",
    "mask[mask > 2*NA/lam] = 0\n",
    "mask = mask.astype(bool)\n",
    "\n",
    "rytov = np.zeros((N, N, height), dtype=np.complex128)\n",
    "count = np.zeros((N, N, height))"
   ]
  },
  {
   "cell_type": "code",
   "execution_count": null,
   "metadata": {},
   "outputs": [
    {
     "name": "stderr",
     "output_type": "stream",
     "text": [
      "100%|██████████| 50/50 [00:06<00:00,  7.76it/s]\n"
     ]
    }
   ],
   "source": [
    "filter = circular_filter((N, N), pixel_radius=int(v_optical/dv/2))\n",
    "\n",
    "for i in tqdm(range(Z)):\n",
    "    F_rytov = np.log(amplitude[i]) + 1j*phase[i]\n",
    "    Us_rytov = np.fft.fftshift(np.fft.fft2(F_rytov)) * dx * dx\n",
    "    Us_rytov = np.roll(Us_rytov, int(v0_y[i]/dv), axis=0)\n",
    "    Us_rytov = np.roll(Us_rytov, int(v0_x[i]/dv), axis=1)\n",
    "    Us_rytov = Us_rytov * filter\n",
    "        \n",
    "    size_check = np.zeros((N, N))\n",
    "    vz = v3 + size_check\n",
    "    vx = fourier_x + size_check\n",
    "    vy = fourier_y + size_check\n",
    "        \n",
    "    Kx = vx - v0_x[i]\n",
    "    Ky = vy - v0_y[i]\n",
    "    Kz = vz - v0_z[i]\n",
    "        \n",
    "    Uprime = (vz/1j) * Us_rytov\n",
    "\n",
    "    xind = np.where(\n",
    "            ((vz > 0) * filter.astype(bool)) &\n",
    "            (Kx > (dv * (-np.floor(N / 2)))) &\n",
    "            (Ky > (dv * (-np.floor(N / 2)))) &\n",
    "            (Kz > (dv_z * (-np.floor(height / 2)))) &\n",
    "            (Kx < (dv * (np.floor(N / 2) - 1))) &\n",
    "            (Ky < (dv * (np.floor(N / 2) - 1))) &\n",
    "            (Kz < (dv_z * (np.floor(height / 2) - 1)))\n",
    "        )\n",
    "    xind = np.ravel_multi_index((xind[0], xind[1]), Uprime.shape)\n",
    "\n",
    "    # 이 밑에가 ewald sphere 만드는부분\n",
    "    Uprime = Uprime.flat[xind]\n",
    "    Kx = Kx.flat[xind]\n",
    "    Ky = Ky.flat[xind]\n",
    "    Kz = Kz.flat[xind]\n",
    "\n",
    "    Kx = np.round(Kx / dv + np.floor(N / 2) + 1).astype(int)\n",
    "    Ky = np.round(Ky / dv + np.floor(N / 2) + 1).astype(int)\n",
    "    Kz = np.round(Kz / dv_z + np.floor(height / 2) + 1).astype(int)\n",
    "\n",
    "    Kzp = np.ravel_multi_index((Ky, Kx, Kz), count.shape)\n",
    "        \n",
    "    temp = rytov.flat[Kzp]\n",
    "    rytov.flat[Kzp] = temp + Uprime\n",
    "    count.flat[Kzp] += (Uprime != 0)\n",
    "\n",
    "# Final computation and normalization\n",
    "rytov[count > 0] = rytov[count > 0] / count[count > 0] / np.prod(np.array([dv, dv, dv_z]))"
   ]
  },
  {
   "cell_type": "code",
   "execution_count": null,
   "metadata": {},
   "outputs": [],
   "source": [
    "rytov_ifftn = np.fft.ifftn(rytov)\n",
    "potential = rytov_ifftn * 4 * np.pi\n",
    "k0 = 1/lam\n",
    "k = 2 * np.pi * n_medium * k0\n",
    "ri = n_medium * np.sqrt(1+potential/k**2)\n",
    "\n",
    "# viewer.add_image(np.real(ri))"
   ]
  }
 ],
 "metadata": {
  "kernelspec": {
   "display_name": "Python 3 (ipykernel)",
   "language": "python",
   "name": "python3"
  },
  "language_info": {
   "codemirror_mode": {
    "name": "ipython",
    "version": 3
   },
   "file_extension": ".py",
   "mimetype": "text/x-python",
   "name": "python",
   "nbconvert_exporter": "python",
   "pygments_lexer": "ipython3",
   "version": "3.12.4"
  }
 },
 "nbformat": 4,
 "nbformat_minor": 4
}
