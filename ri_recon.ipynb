{
 "cells": [
  {
   "cell_type": "code",
   "execution_count": 1,
   "metadata": {},
   "outputs": [],
   "source": [
    "import numpy as np\n",
    "import matplotlib.pyplot as plt\n",
    "import optics, utils\n",
    "import tifffile\n",
    "from tqdm import tqdm\n",
    "\n",
    "def plot_fourier(fourier):\n",
    "    plt.imshow(np.log(1+np.abs(fourier)))"
   ]
  },
  {
   "cell_type": "code",
   "execution_count": 4,
   "metadata": {},
   "outputs": [],
   "source": [
    "import napari\n",
    "viewer = napari.Viewer()"
   ]
  },
  {
   "cell_type": "markdown",
   "metadata": {},
   "source": [
    "<h1> 1. Field retrieval from hologram </h1>"
   ]
  },
  {
   "cell_type": "code",
   "execution_count": 43,
   "metadata": {},
   "outputs": [],
   "source": [
    "background = tifffile.imread('yeast/background.tif')\n",
    "sample = tifffile.imread('yeast/sample.tif')\n",
    "\n",
    "N = background[0].shape[0]\n",
    "Z = background.shape[0]"
   ]
  },
  {
   "cell_type": "code",
   "execution_count": 44,
   "metadata": {},
   "outputs": [
    {
     "data": {
      "text/plain": [
       "<Image layer 'sample' at 0x1fb00d139e0>"
      ]
     },
     "execution_count": 44,
     "metadata": {},
     "output_type": "execute_result"
    }
   ],
   "source": [
    "viewer.add_image(sample)"
   ]
  },
  {
   "cell_type": "code",
   "execution_count": 45,
   "metadata": {},
   "outputs": [],
   "source": [
    "m = 1\n",
    "cm = 1e-2\n",
    "mm = 1e-3\n",
    "um = 1e-6\n",
    "nm = 1e-9\n",
    "\n",
    "# Laser configuration\n",
    "lam = 532 * nm\n",
    "NA = 1.2\n",
    "# n_medium = 1\n",
    "# dx_ol = lam / 4 / NA\n",
    "\n",
    "n_medium = 1.33\n",
    "dx_ol = 0.083 * um\n",
    "\n",
    "cutoff = 1/3"
   ]
  },
  {
   "cell_type": "markdown",
   "metadata": {},
   "source": [
    "<h3> object_center gives frequency coordinate of illumination beam in fourier space </h3>"
   ]
  },
  {
   "cell_type": "markdown",
   "metadata": {},
   "source": [
    "\\begin{gather*}\n",
    "\n",
    "\n",
    "I(\\vec{r}) = |R+U|^2 \\\\\n",
    "\\hat{I(\\vec{\\nu})} = \\mathcal{F} [I(\\vec{r})]\\\\\n",
    "\\mathcal{P} [\\hat{I(\\vec{\\nu})}] = center[cut[\\hat{I(\\vec{\\nu})}]]= center [\\mathcal{F} [R^* U]] = \\mathcal{F} [U] \\\\\n",
    "\\Downarrow \\\\\n",
    "U(\\vec{r}) = \\mathcal{F}^{-1} [\\mathcal{F} [U]] \n",
    "\n",
    "\n",
    "\\end{gather*}"
   ]
  },
  {
   "cell_type": "markdown",
   "metadata": {},
   "source": [
    "<h3> Get object field U : F[(DC term) + UR* + U*R] -> F[U] -> U</h3>"
   ]
  },
  {
   "cell_type": "code",
   "execution_count": 66,
   "metadata": {},
   "outputs": [
    {
     "name": "stderr",
     "output_type": "stream",
     "text": [
      "100%|██████████| 49/49 [00:01<00:00, 25.19it/s]\n"
     ]
    }
   ],
   "source": [
    "temp_background_object_field, temp_sample_object_field = optics.Holography_Off_Axis.get_object_field(background_hologram=background, \n",
    "                                                                                           sample_hologram=sample)\n",
    "\n",
    "background_object_field = temp_background_object_field / temp_background_object_field\n",
    "sample_object_field = temp_sample_object_field / temp_background_object_field"
   ]
  },
  {
   "cell_type": "markdown",
   "metadata": {},
   "source": [
    "<h1> Calculate spatial frequency of the illumination beam and create frequency coordinates space </h1>"
   ]
  },
  {
   "cell_type": "code",
   "execution_count": 67,
   "metadata": {},
   "outputs": [
    {
     "data": {
      "text/plain": [
       "{'dx_cam': 3.5e-06,\n",
       " 'B_cam': 142857.14285714287,\n",
       " 'dv_cam': 525.2100840336135,\n",
       " 'dx_ol': 8.3e-08,\n",
       " 'B_ol': 6024096.385542168,\n",
       " 'dv_ol': 22147.413182140324,\n",
       " 'v0': 1879699.2481203005,\n",
       " 'v_nm': 2499999.9999999995,\n",
       " 'k_nm': 15707963.267948963,\n",
       " 's_nm': 112.0}"
      ]
     },
     "execution_count": 67,
     "metadata": {},
     "output_type": "execute_result"
    }
   ],
   "source": [
    "# Get optical parameters\n",
    "params = utils.get_optical_parameters(image_shape=(N, N), lam=lam, n_medium=n_medium, dx_cam=3.5*um, dx_ol=dx_ol)\n",
    "illumination_frequency = dict()\n",
    "fourier_coordinates = dict()\n",
    "params"
   ]
  },
  {
   "cell_type": "code",
   "execution_count": 68,
   "metadata": {},
   "outputs": [],
   "source": [
    "# Calculate spatial frequency coordinates space\n",
    "v0x, v0y, v0z = [], [], []\n",
    "\n",
    "for i in range(Z):\n",
    "    sample_freq_idx = np.array(\n",
    "        utils.get_maxindex(\n",
    "            np.abs(np.fft.fftshift(np.fft.fft2(np.fft.ifftshift(temp_sample_object_field[i]))))\n",
    "            )\n",
    "        )\n",
    "    if i==0:\n",
    "        center_idx = sample_freq_idx\n",
    "        \n",
    "    incident_freq = (sample_freq_idx - center_idx) * params['dv_ol']\n",
    "    v0x.append(incident_freq[1])\n",
    "    v0y.append(incident_freq[0])\n",
    "    v0z.append(round(np.sqrt(params['v_nm']**2 - incident_freq[1]**2 - incident_freq[0]**2)))\n",
    "\n",
    "illumination_frequency['v0x'] = v0x.copy()\n",
    "illumination_frequency['v0y'] = v0y.copy()\n",
    "illumination_frequency['v0z'] = v0z.copy()"
   ]
  },
  {
   "cell_type": "code",
   "execution_count": 69,
   "metadata": {},
   "outputs": [],
   "source": [
    "# Calculate fourier coordinates\n",
    "v_x = np.arange(-N//2, N//2) * params['dv_ol']\n",
    "v_y = np.arange(-N//2, N//2) * params['dv_ol']\n",
    "V_x, V_y = np.meshgrid(v_x, v_y)\n",
    "\n",
    "V_z = params['v_nm']**2 - V_x**2 - V_y**2\n",
    "V_z[V_z<0] = 0\n",
    "V_z = np.sqrt(V_z)\n",
    "\n",
    "fourier_coordinates['V_x'] = V_x.copy()\n",
    "fourier_coordinates['V_y'] = V_y.copy()\n",
    "fourier_coordinates['V_z'] = V_z.copy()"
   ]
  },
  {
   "cell_type": "markdown",
   "metadata": {},
   "source": [
    "<h1> The first Born </h3>"
   ]
  },
  {
   "cell_type": "code",
   "execution_count": 70,
   "metadata": {},
   "outputs": [],
   "source": [
    "born_scattered_field = sample_object_field - 1"
   ]
  },
  {
   "cell_type": "code",
   "execution_count": 71,
   "metadata": {},
   "outputs": [
    {
     "name": "stderr",
     "output_type": "stream",
     "text": [
      "100%|██████████| 49/49 [00:07<00:00,  6.99it/s]\n"
     ]
    }
   ],
   "source": [
    "# Set recon space height\n",
    "H = 300\n",
    "\n",
    "# Initialize recon frequency space v_z coordinates\n",
    "fourier_coordinates['recon_V_z'] = np.arange(-H//2, H//2) * params['dv_ol']\n",
    "recon_V_z_origin_z_idx = np.where(fourier_coordinates['recon_V_z']==0)[0][0]\n",
    "\n",
    "# Initialize recon field and auxillary arrays\n",
    "born = np.zeros((N, N, H), dtype=np.complex128)\n",
    "count = np.zeros((N, N, H))\n",
    "NA_circle = utils.circular_filter((N, N), pixel_radius=int(params['v_nm']//params['dv_ol']))\n",
    "\n",
    "# Reconstruction\n",
    "for i in tqdm(range(Z)):\n",
    "    # Shifted coordinates\n",
    "    shifted_V_x = fourier_coordinates['V_x'] - illumination_frequency['v0x'][i]\n",
    "    shifted_V_y = fourier_coordinates['V_y'] - illumination_frequency['v0y'][i]\n",
    "    shifted_V_z = np.roll(fourier_coordinates['V_z'], shift=-round(illumination_frequency['v0x'][i]//params['dv_ol']), axis=1)\n",
    "    shifted_V_z = np.roll(shifted_V_z, shift=-round(illumination_frequency['v0y'][i]//params['dv_ol']), axis=0)\n",
    "            \n",
    "    # Scattered field\n",
    "    Us = born_scattered_field[i].copy()\n",
    "    fourier_Us = np.fft.fftshift(np.fft.fft2(np.fft.ifftshift(Us))) * params['dx_ol'] * params['dx_ol']\n",
    "    fourier_Us = fourier_Us * NA_circle\n",
    "    # Since we've already divided sample field by background field before, there's no need to roll the fourier field.\n",
    "    # fourier_Us = np.roll(fourier_Us, shift=-s0y[i]+1, axis=0)\n",
    "    # fourier_Us = np.roll(fourier_Us, shift=-s0x[i], axis=1)\n",
    "            \n",
    "    # Coefficients\n",
    "    coeff = shifted_V_z / 1j\n",
    "            \n",
    "    # Field\n",
    "    F_born = coeff * fourier_Us\n",
    "        \n",
    "    # Ewald sphere projection preparation    \n",
    "    yx_idx = np.where((shifted_V_z>0) & (NA_circle != 0) & \n",
    "                    (shifted_V_x > -(N//2) * params['dv_ol']) & (shifted_V_x < (N//2) * params['dv_ol']) &\n",
    "                    (shifted_V_y > -(N//2) * params['dv_ol']) & (shifted_V_y < (N//2) * params['dv_ol'])\n",
    "                )\n",
    "    ## Move to the origin \n",
    "    z_idx = np.round((shifted_V_z[yx_idx]-shifted_V_z[N//2, N//2])//params['dv_ol'] + recon_V_z_origin_z_idx).astype(int)\n",
    "    yxz_idx = (yx_idx[0], yx_idx[1], z_idx)\n",
    "    \n",
    "    # Ewald sphere projection with count array (to avoid multiple addition of the potential)\n",
    "    count[yxz_idx] += np.ones((N, N, H))[yxz_idx]\n",
    "    born[yxz_idx] += F_born[yx_idx]  \n",
    "    \n",
    "born[count==0] = 0\n",
    "born[count!=0] = born[count!=0]/count[count!=0]\n",
    "born = born / params['dx_ol'] / params['dx_ol'] / params['dx_ol']"
   ]
  },
  {
   "cell_type": "code",
   "execution_count": 72,
   "metadata": {},
   "outputs": [
    {
     "data": {
      "text/plain": [
       "<Image layer 'Image [1]' at 0x1fb140eb590>"
      ]
     },
     "execution_count": 72,
     "metadata": {},
     "output_type": "execute_result"
    }
   ],
   "source": [
    "potential = np.fft.ifftshift(np.fft.ifftn(np.fft.fftshift(born)))\n",
    "ri = np.sqrt(1 + 4 * np.pi * potential / params['k_nm']**2) * n_medium\n",
    "viewer.add_image(np.real(ri))"
   ]
  },
  {
   "cell_type": "markdown",
   "metadata": {},
   "source": [
    "<h1> The first Rytov </h1>"
   ]
  },
  {
   "cell_type": "code",
   "execution_count": 76,
   "metadata": {},
   "outputs": [],
   "source": [
    "rytov_scattered_field = np.log(np.abs(sample_object_field)) + 1j * np.angle(sample_object_field)"
   ]
  },
  {
   "cell_type": "code",
   "execution_count": 98,
   "metadata": {},
   "outputs": [
    {
     "name": "stderr",
     "output_type": "stream",
     "text": [
      "100%|██████████| 49/49 [00:06<00:00,  7.02it/s]\n"
     ]
    }
   ],
   "source": [
    "# Set recon space height\n",
    "H = 300\n",
    "\n",
    "# Initialize recon frequency space v_z coordinates\n",
    "fourier_coordinates['recon_V_z'] = np.arange(-H//2, H//2) * params['dv_ol']\n",
    "recon_V_z_origin_z_idx = np.where(fourier_coordinates['recon_V_z']==0)[0][0]\n",
    "\n",
    "# Initialize recon field and auxillary arrays\n",
    "rytov = np.zeros((N, N, H), dtype=np.complex128)\n",
    "count = np.zeros((N, N, H))\n",
    "NA_circle = utils.circular_filter((N, N), pixel_radius=int(params['v_nm']//params['dv_ol']))\n",
    "\n",
    "# Reconstruction\n",
    "for i in tqdm(range(Z)):\n",
    "    # Shifted coordinates\n",
    "    shifted_V_x = fourier_coordinates['V_x'] - illumination_frequency['v0x'][i]\n",
    "    shifted_V_y = fourier_coordinates['V_y'] - illumination_frequency['v0y'][i]\n",
    "    shifted_V_z = np.roll(fourier_coordinates['V_z'], shift=-round(illumination_frequency['v0x'][i]//params['dv_ol']), axis=1)\n",
    "    shifted_V_z = np.roll(shifted_V_z, shift=-round(illumination_frequency['v0y'][i]//params['dv_ol']), axis=0)\n",
    "\n",
    "    # Scattered field\n",
    "    Us = rytov_scattered_field[i].copy()\n",
    "    fourier_Us = np.fft.fftshift(np.fft.fft2(np.fft.ifftshift(Us))) * params['dx_ol'] * params['dx_ol']\n",
    "    fourier_Us = fourier_Us * NA_circle\n",
    "    \n",
    "    # Since we've already divided sample field by background field before, there's no need to roll the fourier field.\n",
    "    # fourier_Us = np.roll(fourier_Us, shift=-s0y[i]+1, axis=0)\n",
    "    # fourier_Us = np.roll(fourier_Us, shift=-s0x[i], axis=1)\n",
    "            \n",
    "    # Coefficients\n",
    "    coeff = shifted_V_z / 1j\n",
    "            \n",
    "    # Field\n",
    "    F_rytov = coeff * fourier_Us\n",
    "    \n",
    "    # Ewald sphere projection preparation    \n",
    "    yx_idx = np.where((shifted_V_z>0) & (NA_circle != 0) & \n",
    "                    (shifted_V_x > -(N//2) * params['dv_ol']) & (shifted_V_x < (N//2) * params['dv_ol']) &\n",
    "                    (shifted_V_y > -(N//2) * params['dv_ol']) & (shifted_V_y < (N//2) * params['dv_ol'])\n",
    "                )\n",
    "    ## Move to the origin \n",
    "    z_idx = np.round((shifted_V_z[yx_idx]-shifted_V_z[N//2, N//2])//params['dv_ol'] + recon_V_z_origin_z_idx).astype(int)\n",
    "    yxz_idx = (yx_idx[0], yx_idx[1], z_idx)\n",
    "    \n",
    "    # Ewald sphere projection with count array (to avoid multiple addition of the potential)\n",
    "    count[yxz_idx] += np.ones((N, N, H))[yxz_idx]        \n",
    "    rytov[yxz_idx] += F_rytov[yx_idx]\n",
    "    \n",
    "rytov[count==0] = 0\n",
    "rytov[count!=0] = rytov[count!=0] / count[count!=0]\n",
    "rytov = rytov / params['dx_ol'] / params['dx_ol'] / params['dx_ol']"
   ]
  },
  {
   "cell_type": "code",
   "execution_count": 99,
   "metadata": {},
   "outputs": [
    {
     "data": {
      "text/plain": [
       "<Image layer 'Image' at 0x1fb1407b3b0>"
      ]
     },
     "execution_count": 99,
     "metadata": {},
     "output_type": "execute_result"
    }
   ],
   "source": [
    "potential = np.fft.ifftshift(np.fft.ifftn(np.fft.fftshift(rytov)))\n",
    "ri = np.sqrt(1 + 4 * np.pi * potential / params['k_nm']**2) * n_medium\n",
    "viewer.add_image(np.real(ri))"
   ]
  },
  {
   "cell_type": "code",
   "execution_count": 100,
   "metadata": {},
   "outputs": [
    {
     "data": {
      "text/plain": [
       "<Image layer 'Image' at 0x1fb182db320>"
      ]
     },
     "execution_count": 100,
     "metadata": {},
     "output_type": "execute_result"
    }
   ],
   "source": [
    "viewer.add_image(np.real(ri))"
   ]
  }
 ],
 "metadata": {
  "kernelspec": {
   "display_name": "Python 3 (ipykernel)",
   "language": "python",
   "name": "python3"
  },
  "language_info": {
   "codemirror_mode": {
    "name": "ipython",
    "version": 3
   },
   "file_extension": ".py",
   "mimetype": "text/x-python",
   "name": "python",
   "nbconvert_exporter": "python",
   "pygments_lexer": "ipython3",
   "version": "3.12.4"
  }
 },
 "nbformat": 4,
 "nbformat_minor": 4
}
