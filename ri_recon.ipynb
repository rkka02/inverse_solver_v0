{
 "cells": [
  {
   "cell_type": "code",
   "execution_count": 2,
   "metadata": {},
   "outputs": [],
   "source": [
    "import matplotlib.pyplot as plt\n",
    "import numpy as np\n",
    "from skimage import restoration\n",
    "from tqdm import tqdm\n",
    "import tifffile\n",
    "import torch\n",
    "\n",
    "def plot_fourier(fourier):\n",
    "    plt.imshow(np.log(1+np.abs(fourier)))\n",
    "\n",
    "def circular_filter(array_shape, pixel_radius):\n",
    "    filter = np.zeros(array_shape)\n",
    "    N = array_shape[0]\n",
    "    x, y = np.arange(N), np.arange(N)\n",
    "    X, Y = np.meshgrid(x, y)\n",
    "    filter[(X-N//2)**2 + (Y-N//2)**2 < pixel_radius**2] = 1\n",
    "    return filter\n",
    "\n",
    "def get_maxindex(array):\n",
    "    coords = np.where(array==array.max())\n",
    "    row = coords[0][0]\n",
    "    column = coords[1][0]\n",
    "    return [row, column]\n",
    "\n",
    "def get_maxindex_3d(array_3d):\n",
    "    coords = np.where(array_3d==array_3d.max())\n",
    "    row = coords[0][0]\n",
    "    column = coords[1][0]\n",
    "    z = coords[2][0]\n",
    "    return [row, column, z]\n",
    "\n",
    "def phiShift(restored_p2, n=1):\n",
    "    imY, imX = restored_p2.shape\n",
    "    bsize = 8\n",
    "\n",
    "    mask = np.ones((imY, imX))\n",
    "    mask[bsize:imY-bsize, bsize:imX-bsize] = 0\n",
    "\n",
    "    imY, imX = restored_p2.shape\n",
    "    XX, YY = np.meshgrid(np.arange(imX), np.arange(imY))\n",
    "    p2mask = restored_p2 * mask\n",
    "    \n",
    "    # Omit Outliers\n",
    "    list_ = p2mask[p2mask != 0].flatten()\n",
    "    p25 = np.percentile(list_, 25)\n",
    "    p75 = np.percentile(list_, 75)\n",
    "    cmin = p25 - 1.5 * (p75 - p25)\n",
    "    cmax = p75 + 1.5 * (p75 - p25)\n",
    "    p2mask[p2mask < cmin] = 0\n",
    "    p2mask[p2mask > cmax] = 0\n",
    "    \n",
    "    # Find Coeffitients(?)\n",
    "    p2mask = p2mask.flatten()\n",
    "    X = np.zeros((len(p2mask[p2mask!=0]), n))\n",
    "    Y = np.zeros((len(p2mask[p2mask!=0]), n))\n",
    "    for ii in range(n):\n",
    "        XXX = (XX**1).flatten()\n",
    "        YYY = (YY**1).flatten()\n",
    "        XXX = XXX[p2mask!=0]\n",
    "        YYY = YYY[p2mask!=0]\n",
    "        X[:, ii] = XXX\n",
    "        Y[:, ii] = YYY\n",
    "        \n",
    "    p2mask = p2mask[p2mask!=0]\n",
    "    E = np.ones(len(p2mask))\n",
    "    AA = np.column_stack((X, Y, E))\n",
    "    coefficients = np.linalg.lstsq(AA, p2mask, rcond=None)[0]\n",
    "    \n",
    "    goodp2 = restored_p2 - coefficients[-1] * np.ones((imY, imX))\n",
    "    for ii in range(n):\n",
    "        goodp2 -= coefficients[ii] * XX**(ii+1)\n",
    "        goodp2 -= coefficients[n + ii] * YY**(ii+1)\n",
    "    \n",
    "    return goodp2"
   ]
  },
  {
   "cell_type": "code",
   "execution_count": 3,
   "metadata": {},
   "outputs": [],
   "source": [
    "import napari\n",
    "\n",
    "viewer = napari.Viewer()"
   ]
  },
  {
   "cell_type": "markdown",
   "metadata": {},
   "source": [
    "<h1> 1. Field retrieval from hologram </h1>"
   ]
  },
  {
   "cell_type": "code",
   "execution_count": 83,
   "metadata": {},
   "outputs": [],
   "source": [
    "background = tifffile.imread('SiO2_1_bg.tif')\n",
    "sample = tifffile.imread('SiO2_1_sp.tif')\n",
    "\n",
    "N = background[0].shape[0]\n",
    "Z = background.shape[0]\n",
    "cutoff = 1/3"
   ]
  },
  {
   "cell_type": "code",
   "execution_count": 84,
   "metadata": {},
   "outputs": [],
   "source": [
    "m = 1\n",
    "cm = 1e-2\n",
    "mm = 1e-3\n",
    "um = 1e-6\n",
    "nm = 1e-9\n",
    "\n",
    "NA = 1.2\n",
    "lam = 532 * nm\n",
    "v_optical = NA/lam * um\n",
    "# dx = 0.1*um # dx=lam/(4*NA)=110nm=0.11um # here NA=1.2\n",
    "dx = 0.1\n",
    "Dx = N * dx\n",
    "dv = 1/Dx\n",
    "\n",
    "height = 70\n",
    "dv_z = 1/(height*dx)"
   ]
  },
  {
   "cell_type": "markdown",
   "metadata": {},
   "source": [
    "<h3> object_center gives frequency coordinate of illumination beam in fourier space </h3>"
   ]
  },
  {
   "cell_type": "markdown",
   "metadata": {},
   "source": [
    "\\begin{gather*}\n",
    "\n",
    "\n",
    "I(\\vec{r}) = |R+U|^2 \\\\\n",
    "\\hat{I(\\vec{\\nu})} = \\mathcal{F} [I(\\vec{r})]\\\\\n",
    "\\mathcal{P} [\\hat{I(\\vec{\\nu})}] = center[cut[\\hat{I(\\vec{\\nu})}]]= center [\\mathcal{F} [R^* U]] = \\mathcal{F} [U] \\\\\n",
    "\\Downarrow \\\\\n",
    "U(\\vec{r}) = \\mathcal{F}^{-1} [\\mathcal{F} [U]] \n",
    "\n",
    "\n",
    "\\end{gather*}"
   ]
  },
  {
   "cell_type": "markdown",
   "metadata": {},
   "source": [
    "<h3> find holographic reference center </h3>"
   ]
  },
  {
   "cell_type": "code",
   "execution_count": 85,
   "metadata": {},
   "outputs": [
    {
     "data": {
      "text/plain": [
       "([55, 56], array([145, 144], dtype=int64))"
      ]
     },
     "execution_count": 85,
     "metadata": {},
     "output_type": "execute_result"
    }
   ],
   "source": [
    "ref_fourier = np.fft.fftshift(np.fft.fft2(background[0]))\n",
    "ref_fourier[:, int(N*cutoff):-1] = 0\n",
    "reference_center = get_maxindex(ref_fourier)\n",
    "shifts = N//2 - np.array(reference_center)\n",
    "reference_center, shifts"
   ]
  },
  {
   "cell_type": "markdown",
   "metadata": {},
   "source": [
    "<h3> Reference Beam Centering</h3>"
   ]
  },
  {
   "cell_type": "code",
   "execution_count": 87,
   "metadata": {},
   "outputs": [
    {
     "name": "stderr",
     "output_type": "stream",
     "text": [
      "100%|██████████| 40/40 [00:00<00:00, 86.69it/s]\n"
     ]
    }
   ],
   "source": [
    "cutoff = 400\n",
    "new_start_idx = (N-cutoff)//2\n",
    "new_end_idx = (N+cutoff)//2\n",
    "\n",
    "new_size = new_end_idx - new_start_idx\n",
    "background_fourier = np.zeros((Z, new_size, new_size), dtype=np.complex64)\n",
    "sample_fourier = np.zeros((Z, new_size, new_size), dtype=np.complex64)\n",
    "filter = circular_filter((new_size, new_size), pixel_radius=100)\n",
    "\n",
    "for i in tqdm(range(Z)):\n",
    "    back_temp = np.fft.fftshift(np.fft.fft2(background[i]))\n",
    "    sample_temp = np.fft.fftshift(np.fft.fft2(sample[i]))\n",
    "    \n",
    "    back_temp = np.roll(back_temp, shift=shifts[0], axis=0)\n",
    "    back_temp = np.roll(back_temp, shift=shifts[1], axis=1)\n",
    "    back_temp = back_temp * filter\n",
    "    \n",
    "    sample_temp = np.roll(sample_temp, shift=shifts[0], axis=0)\n",
    "    sample_temp = np.roll(sample_temp, shift=shifts[1], axis=1)\n",
    "    sample_temp = sample_temp * filter\n",
    "    \n",
    "    background_fourier[i] = back_temp[new_start_idx:new_end_idx, new_start_idx:new_end_idx]\n",
    "    sample_fourier[i] = sample_temp[new_start_idx:new_end_idx, new_start_idx:new_end_idx]\n"
   ]
  },
  {
   "cell_type": "markdown",
   "metadata": {},
   "source": [
    "<h3> find illumination peak from background fourier </h3>"
   ]
  },
  {
   "cell_type": "markdown",
   "metadata": {},
   "source": [
    "\\begin{gather*}\n",
    "\n",
    "U(\\vec{r}) \\equiv A e^{i \\phi} \\\\\n",
    "\\Downarrow \\\\\n",
    "A = |\\frac{U_s}{U_b}|\\\\\n",
    "\\phi = \\angle \\frac{U_s}{U_b}\n",
    "\n",
    "\\end{gather*}"
   ]
  },
  {
   "cell_type": "code",
   "execution_count": 89,
   "metadata": {},
   "outputs": [
    {
     "name": "stderr",
     "output_type": "stream",
     "text": [
      "100%|██████████| 40/40 [00:02<00:00, 17.37it/s]\n"
     ]
    }
   ],
   "source": [
    "N = new_size\n",
    "\n",
    "retrieved_background = np.zeros((40, N, N), dtype=np.complex64)\n",
    "retrieved_field = np.zeros((40, N, N), dtype=np.complex64)\n",
    "angles = np.zeros((40, N, N))\n",
    "\n",
    "for i in tqdm(range(40)):\n",
    "    back_temp = np.fft.ifft2(background_fourier[i])\n",
    "    sample_temp = np.fft.ifft2(sample_fourier[i])\n",
    "    \n",
    "    # background\n",
    "    retrieved_background[i] = np.abs(back_temp) * np.exp(1j*np.angle(back_temp))\n",
    "    \n",
    "    # sample\n",
    "    sample_angle = restoration.unwrap_phase(np.angle(sample_temp/back_temp))\n",
    "    sample_angle = phiShift(sample_angle)\n",
    "    sample_amplitude = np.abs(sample_temp/back_temp)\n",
    "    angles[i] = sample_angle\n",
    "\n",
    "    retrieved_field[i] = sample_amplitude * np.exp(1j * sample_angle)"
   ]
  },
  {
   "cell_type": "markdown",
   "metadata": {},
   "source": [
    "<h1> 2. Applying the Fourier diffraction Theorem </h3>"
   ]
  },
  {
   "cell_type": "code",
   "execution_count": 90,
   "metadata": {},
   "outputs": [],
   "source": [
    "phase = np.zeros((Z, N, N))\n",
    "amplitude = np.zeros((Z, N, N))\n",
    "\n",
    "for i in range(Z):\n",
    "    phase[i] = restoration.unwrap_phase(np.angle(retrieved_field[i]))\n",
    "    amplitude[i] = np.abs(retrieved_field[i])"
   ]
  },
  {
   "cell_type": "code",
   "execution_count": 91,
   "metadata": {},
   "outputs": [],
   "source": [
    "f_dx = np.zeros(Z)\n",
    "f_dy = np.zeros(Z)\n",
    "mj_0 = 0\n",
    "mi_0 = 0\n",
    "\n",
    "for i in range(Z):\n",
    "    F_back = np.fft.fft2(retrieved_background[i])\n",
    "    # find illumination center\n",
    "    m = get_maxindex(F_back)\n",
    "    # normal illumination\n",
    "    if i==0:\n",
    "        mi_0 = m[0]\n",
    "        mj_0 = m[1]\n",
    "    \n",
    "    # obliqueness\n",
    "    f_dx[i] = mj_0-m[1]\n",
    "    f_dy[i] = mi_0-m[0]"
   ]
  },
  {
   "cell_type": "code",
   "execution_count": 92,
   "metadata": {},
   "outputs": [],
   "source": [
    "n_medium = 1.33\n",
    "k0_nm = (1/lam) * n_medium * um\n",
    "\n",
    "k0_x = dv * np.array(f_dx)\n",
    "k0_y = dv * np.array(f_dy)\n",
    "k0_z = np.real(np.sqrt(k0_nm**2 - k0_x**2 - k0_y**2))"
   ]
  },
  {
   "cell_type": "code",
   "execution_count": 93,
   "metadata": {},
   "outputs": [
    {
     "data": {
      "text/plain": [
       "<matplotlib.image.AxesImage at 0x28fced36e70>"
      ]
     },
     "execution_count": 93,
     "metadata": {},
     "output_type": "execute_result"
    },
    {
     "data": {
      "image/png": "[encoded data removed]",
      "text/plain": [
       "<Figure size 640x480 with 1 Axes>"
      ]
     },
     "metadata": {},
     "output_type": "display_data"
    }
   ],
   "source": [
    "fourier_x = np.arange(-N//2, N//2) * dv\n",
    "fourier_y = np.arange(-N//2, N//2) * dv\n",
    "fourier_z = np.arange(-height//2, height//2) * dv\n",
    "\n",
    "Fourier_X, Fourier_Y = np.meshgrid(fourier_x, fourier_y)\n",
    "Fourier_Z = np.sqrt(Fourier_X**2 + Fourier_Y**2)\n",
    "\n",
    "fourier_y = fourier_y[:, None]\n",
    "\n",
    "k3 = k0_nm**2 - Fourier_Z**2\n",
    "k3[k3<0] = 0\n",
    "k3 = np.sqrt(k3)\n",
    "plt.imshow(k3)"
   ]
  },
  {
   "cell_type": "code",
   "execution_count": 94,
   "metadata": {},
   "outputs": [],
   "source": [
    "mask = Fourier_Z.copy()\n",
    "mask[mask > 2*NA/lam*um] = 0\n",
    "mask = mask.astype(bool)\n",
    "\n",
    "rytov = np.zeros((N, N, height))\n",
    "count = np.zeros((N, N, height))"
   ]
  },
  {
   "cell_type": "code",
   "execution_count": 95,
   "metadata": {},
   "outputs": [
    {
     "name": "stderr",
     "output_type": "stream",
     "text": [
      "  0%|          | 0/40 [00:00<?, ?it/s]C:\\Users\\김민욱\\AppData\\Local\\Temp\\ipykernel_13612\\1855206978.py:45: ComplexWarning: Casting complex values to real discards the imaginary part\n",
      "  rytov.flat[Kzp] = temp + Uprime\n",
      "100%|██████████| 40/40 [00:00<00:00, 74.18it/s]\n"
     ]
    }
   ],
   "source": [
    "filter = circular_filter((N, N), pixel_radius=v_optical//dv)\n",
    "\n",
    "for i in tqdm(range(Z)):\n",
    "    F_rytov = np.log(amplitude[i]) + 1j*phase[i]\n",
    "    Us_rytov = np.fft.fftshift(np.fft.fft2(F_rytov)) * dx * dx\n",
    "    Us_rytov = np.roll(Us_rytov, int(k0_y[i]/dv), axis=0)\n",
    "    Us_rytov = np.roll(Us_rytov, int(k0_x[i]/dv), axis=1)\n",
    "    Us_rytov = Us_rytov * filter\n",
    "        \n",
    "    size_check = np.zeros((N, N))\n",
    "    kz = k3 + size_check\n",
    "    kx = fourier_x + size_check\n",
    "    ky = fourier_y + size_check\n",
    "        \n",
    "    Kx = kx - k0_x[i]\n",
    "    Ky = ky - k0_y[i]\n",
    "    Kz = kz - k0_z[i]\n",
    "        \n",
    "    Uprime = (kz/1j) * Us_rytov\n",
    "\n",
    "    xind = np.where(\n",
    "            ((kz > 0) * filter.astype(bool)) &\n",
    "            (Kx > (dv * (-np.floor(N / 2)))) &\n",
    "            (Ky > (dv * (-np.floor(N / 2)))) &\n",
    "            (Kz > (dv_z * (-np.floor(height / 2)))) &\n",
    "            (Kx < (dv * (np.floor(N / 2) - 1))) &\n",
    "            (Ky < (dv * (np.floor(N / 2) - 1))) &\n",
    "            (Kz < (dv_z * (np.floor(height / 2) - 1)))\n",
    "        )\n",
    "    xind = np.ravel_multi_index((xind[0], xind[1]), Uprime.shape)\n",
    "\n",
    "    # 이 밑에가 ewald sphere 만드는부분\n",
    "    Uprime = Uprime.flat[xind]\n",
    "    Kx = Kx.flat[xind]\n",
    "    Ky = Ky.flat[xind]\n",
    "    Kz = Kz.flat[xind]\n",
    "\n",
    "    Kx = np.round(Kx / dv + np.floor(N / 2) + 1).astype(int)\n",
    "    Ky = np.round(Ky / dv + np.floor(N / 2) + 1).astype(int)\n",
    "    Kz = np.round(Kz / dv_z + np.floor(height / 2) + 1).astype(int)\n",
    "\n",
    "    Kzp = np.ravel_multi_index((Ky, Kx, Kz), count.shape)\n",
    "        \n",
    "    temp = rytov.flat[Kzp]\n",
    "    rytov.flat[Kzp] = temp + Uprime\n",
    "    count.flat[Kzp] += (Uprime != 0)\n",
    "\n",
    "# Final computation and normalization\n",
    "rytov[count > 0] = rytov[count > 0] / count[count > 0] / np.prod(np.array([dv, dv, dv_z]))"
   ]
  },
  {
   "cell_type": "code",
   "execution_count": 96,
   "metadata": {},
   "outputs": [
    {
     "data": {
      "text/plain": [
       "<Image layer 'Image [1]' at 0x28fcaedcb90>"
      ]
     },
     "execution_count": 96,
     "metadata": {},
     "output_type": "execute_result"
    }
   ],
   "source": [
    "rytov = np.fft.ifftn(rytov)\n",
    "potential = rytov * 4 * np.pi\n",
    "k0 = 1/lam\n",
    "k = 2 * np.pi * n_medium * k0\n",
    "ri = n_medium * np.sqrt(1+potential/k**2)\n",
    "\n",
    "viewer.add_image(np.real(ri))"
   ]
  },
  {
   "cell_type": "markdown",
   "metadata": {},
   "source": [
    "\\begin{gather*}\n",
    "\n",
    "\\lambda = 532 nm \\\\\n",
    "\\nu_{optical} = \\frac{NA}{\\lambda} \\\\\n",
    "\\delta x \\equiv \\frac{\\lambda}{NA} = 110nm \\sim 100nm = 0.1 \\mu m \\\\\n",
    "\\Delta x = N * \\delta x \\\\\n",
    "\\delta \\nu = \\frac{1}{\\Delta x}\n",
    "\n",
    "\\end{gather*}"
   ]
  },
  {
   "cell_type": "markdown",
   "metadata": {},
   "source": [
    "\\begin{gather*}\n",
    "x \\in \\delta x * (-\\frac{N}{2}, +\\frac{N}{2}) \\\\\n",
    "y \\in \\delta y * (-\\frac{N}{2}, +\\frac{N}{2}) \\\\\n",
    "\n",
    "\\\\\n",
    "\n",
    "\\nu_x \\in \\delta \\nu_x * (-\\frac{N}{2}, +\\frac{N}{2}) \\\\\n",
    "\\nu_y \\in \\delta \\nu_y * (-\\frac{N}{2}, +\\frac{N}{2}) \\\\\n",
    "\\nu_z \\equiv \\sqrt{\\nu^2 - \\nu_x^2 - \\nu_y^2}\n",
    "\\end{gather*}"
   ]
  },
  {
   "cell_type": "markdown",
   "metadata": {},
   "source": [
    "1. Fourier diffraction theorem \n",
    "\n",
    "$$\n",
    "\\hat{U}^{(s)}_{1B}(\\vec{k}) = - \\frac{1}{i \\lambda s_z} \\hat{F}(\\vec{K})\n",
    "$$\n",
    "\n",
    "2. To get a scattered 1st Born approximation field, we first need to calculate an illumination beam at object lens plane\n",
    "$$\n",
    "U^{(i)}(x,y;0) = e^{i k \\vec{s_0} \\cdot \\vec{r}}|_{z=0} = e^{i 2 \\pi (\\nu _{0x} x + \\nu _{0y} y)}\n",
    "$$\n",
    "\n",
    "3. Then straightforwardly,\n",
    "$$\n",
    "U = U^{(i)} + U^{(s)} \\Rightarrow U^{(s)} = U - U^{(i)}"
   ]
  }
 ],
 "metadata": {
  "kernelspec": {
   "display_name": "Python 3 (ipykernel)",
   "language": "python",
   "name": "python3"
  },
  "language_info": {
   "codemirror_mode": {
    "name": "ipython",
    "version": 3
   },
   "file_extension": ".py",
   "mimetype": "text/x-python",
   "name": "python",
   "nbconvert_exporter": "python",
   "pygments_lexer": "ipython3",
   "version": "3.12.4"
  }
 },
 "nbformat": 4,
 "nbformat_minor": 4
}
